{
 "cells": [
  {
   "cell_type": "markdown",
   "metadata": {},
   "source": [
    "$$ E  = \\frac{1}{N} \\sum_{n=0}^{N-1} |S[n]|^2 $$\n",
    "$$ \\sigma _w^2  = \\frac{1}{N} \\sum_{n=0}^{N-1} |S[n]|^2 $$"
   ]
  },
  {
   "cell_type": "code",
   "execution_count": null,
   "metadata": {},
   "outputs": [],
   "source": [
    "import numpy as np\n",
    "Norm_Win = 10 #Seconds used for normalisation\n",
    "fs = 3200 #Sample frequency of signal\n",
    "Num_samples = Norm_Win * fs\n",
    "\n",
    "def Normalization_BroadBand(x,Norm_window,sample_rate):\n",
    "    Num_samples = Norm_window * sample_rate\n",
    "    for n in range(Num_samples):\n",
    "        _sum = x[n]**2\n",
    "    E = _sum/Num_samples\n",
    "    return E"
   ]
  }
 ],
 "metadata": {
  "kernelspec": {
   "display_name": "base",
   "language": "python",
   "name": "python3"
  },
  "language_info": {
   "name": "python",
   "version": "3.12.7"
  }
 },
 "nbformat": 4,
 "nbformat_minor": 2
}
