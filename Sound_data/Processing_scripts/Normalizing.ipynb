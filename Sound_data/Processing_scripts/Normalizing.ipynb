{
 "cells": [
  {
   "cell_type": "markdown",
   "metadata": {},
   "source": [
    "$$ E  = \\frac{1}{N} \\sum_{n=0}^{N-1} |S[n]|^2 $$\n",
    "$$ \\sigma _w^2  = \\frac{1}{N} \\sum_{n=0}^{N-1} |S[n]|^2 $$"
   ]
  },
  {
   "cell_type": "code",
   "execution_count": null,
   "metadata": {},
   "outputs": [
    {
     "name": "stdout",
     "output_type": "stream",
     "text": [
      "Num_samples: 1600000\n",
      "0.5209390395086918\n"
     ]
    }
   ],
   "source": [
    "\n",
    "import matplotlib.pyplot as plt\n",
    "from scipy import signal\n",
    "from scipy.io import wavfile\n",
    "from scipy.fft import fft, fftshift, fftfreq\t# FFT and helper functions\n",
    "import numpy as np\n",
    "\n",
    "\n",
    "sample_rate, samples = wavfile.read('/Users/christofferaaseth/Documents/GitHub/hydrophonic-detection/Sound_data/Wav_files/Cargo/014907.wav')\n",
    "frequencies, times, spectrogram = signal.spectrogram(samples, sample_rate)\n",
    "\n",
    "\n",
    "Win_length = 50 #Seconds used for normalisation\n",
    "win_dist = 100 #seconds between each window\n",
    "fs = 3200 #Sample frequency of signal\n",
    "\n",
    "Num_samples = Win_length * fs\n",
    "\n",
    "\n",
    "\n",
    "def Normalization_BroadBand(x,window_length, window_distance, sample_rate):\n",
    "    #TODO\n",
    "    #Legg in error melding for når winduene er utenfor sample array\n",
    "\n",
    "    #Tar utgangspunkt i at x[0] er det nyeste sample\n",
    "    \"\"\"Plot spectrogram of signal x.\n",
    "\n",
    "    Parameters\n",
    "    ----------\n",
    "    x: array of floats\n",
    "        Signal in time-domain\n",
    "    window_length: int\n",
    "        Amount of seconds used for each window\n",
    "    window_distance: int\n",
    "        Amount of seconds between each window\n",
    "    sample_rate: int\n",
    "        Sample rate of signal x\n",
    "    \"\"\"\n",
    "    Num_samples = window_length * sample_rate\n",
    "    print(f\"Num_samples: {Num_samples}\")\n",
    "    for n in range(Num_samples):\n",
    "        Energy_sum = x[n]**2\n",
    "        Nocie_sum = x[n + (window_length+window_distance)*sample_rate -2]**2\n",
    "    E = Energy_sum/Num_samples\n",
    "    N = Nocie_sum/Num_samples\n",
    "\n",
    "    Ratio = E/N\n",
    "    return Ratio\n",
    "\n",
    "Energy = Normalization_BroadBand(samples ,Win_length, win_dist, sample_rate)\n",
    "print(Energy)\n"
   ]
  }
 ],
 "metadata": {
  "kernelspec": {
   "display_name": "base",
   "language": "python",
   "name": "python3"
  },
  "language_info": {
   "codemirror_mode": {
    "name": "ipython",
    "version": 3
   },
   "file_extension": ".py",
   "mimetype": "text/x-python",
   "name": "python",
   "nbconvert_exporter": "python",
   "pygments_lexer": "ipython3",
   "version": "3.12.7"
  }
 },
 "nbformat": 4,
 "nbformat_minor": 2
}
