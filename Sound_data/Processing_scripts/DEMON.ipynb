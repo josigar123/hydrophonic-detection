{
 "cells": [
  {
   "cell_type": "markdown",
   "metadata": {},
   "source": [
    "$$ E  = \\frac{1}{N} \\sum_{n=0}^{N-1} |S[n]|^2 $$\n",
    "$$ \\sigma _w^2  = \\frac{1}{N} \\sum_{n=0}^{N-1} |S[n]|^2 $$"
   ]
  }
 ],
 "metadata": {
  "language_info": {
   "name": "python"
  }
 },
 "nbformat": 4,
 "nbformat_minor": 2
}
